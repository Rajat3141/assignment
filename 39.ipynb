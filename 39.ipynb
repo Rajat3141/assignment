{
 "cells": [
  {
   "cell_type": "code",
   "execution_count": 1,
   "id": "87ff303f-298b-4085-8ffe-24ced1289faf",
   "metadata": {},
   "outputs": [],
   "source": [
    "d={}"
   ]
  },
  {
   "cell_type": "code",
   "execution_count": 2,
   "id": "66883721-8028-469e-8627-7aa94a3f8888",
   "metadata": {},
   "outputs": [
    {
     "data": {
      "text/plain": [
       "dict"
      ]
     },
     "execution_count": 2,
     "metadata": {},
     "output_type": "execute_result"
    }
   ],
   "source": [
    "type(d)"
   ]
  },
  {
   "cell_type": "code",
   "execution_count": 5,
   "id": "fa3395f9-ecb3-4959-af33-532f5f578f60",
   "metadata": {},
   "outputs": [],
   "source": [
    "d={'key' : 'rajat'}"
   ]
  },
  {
   "cell_type": "code",
   "execution_count": 6,
   "id": "5443f96b-1367-4173-b6a3-3be70bba0fcb",
   "metadata": {},
   "outputs": [
    {
     "data": {
      "text/plain": [
       "{'key': 'rajat'}"
      ]
     },
     "execution_count": 6,
     "metadata": {},
     "output_type": "execute_result"
    }
   ],
   "source": [
    "d"
   ]
  },
  {
   "cell_type": "code",
   "execution_count": 7,
   "id": "ad527923-5f78-4b54-956e-63662f81ab9f",
   "metadata": {},
   "outputs": [],
   "source": [
    "d1={'name' : 'rajat' , 'email' : 'k.rajat' , 'phone number' : '6350490331' }"
   ]
  },
  {
   "cell_type": "code",
   "execution_count": 8,
   "id": "b667170b-94ff-4758-b0b0-faaec39c7ab0",
   "metadata": {},
   "outputs": [
    {
     "data": {
      "text/plain": [
       "{'name': 'rajat', 'email': 'k.rajat', 'phone number': '6350490331'}"
      ]
     },
     "execution_count": 8,
     "metadata": {},
     "output_type": "execute_result"
    }
   ],
   "source": [
    "d1"
   ]
  },
  {
   "cell_type": "code",
   "execution_count": 10,
   "id": "5c6d482d-d43a-4baa-99dc-79b74bca8402",
   "metadata": {},
   "outputs": [],
   "source": [
    " d2={23 : 'rajat' , True : \"R\"} # integer and strings works as key and special character don't work"
   ]
  },
  {
   "cell_type": "code",
   "execution_count": 11,
   "id": "d663486a-7221-4396-b398-8f4b6791938c",
   "metadata": {},
   "outputs": [
    {
     "data": {
      "text/plain": [
       "{23: 'rajat', True: 'R'}"
      ]
     },
     "execution_count": 11,
     "metadata": {},
     "output_type": "execute_result"
    }
   ],
   "source": [
    "d2"
   ]
  },
  {
   "cell_type": "code",
   "execution_count": 14,
   "id": "9bb79821-8966-46e9-89e7-68f182a89e0a",
   "metadata": {},
   "outputs": [
    {
     "data": {
      "text/plain": [
       "'rajat'"
      ]
     },
     "execution_count": 14,
     "metadata": {},
     "output_type": "execute_result"
    }
   ],
   "source": [
    "d2[23] # find anyt element using key "
   ]
  },
  {
   "cell_type": "code",
   "execution_count": 15,
   "id": "378d6c25-7273-46d0-92f3-fe85ff01466a",
   "metadata": {},
   "outputs": [
    {
     "data": {
      "text/plain": [
       "'R'"
      ]
     },
     "execution_count": 15,
     "metadata": {},
     "output_type": "execute_result"
    }
   ],
   "source": [
    "d2[1]"
   ]
  },
  {
   "cell_type": "code",
   "execution_count": 16,
   "id": "f3fff3a9-93a4-4579-8d69-032eee4bd24f",
   "metadata": {},
   "outputs": [
    {
     "data": {
      "text/plain": [
       "'R'"
      ]
     },
     "execution_count": 16,
     "metadata": {},
     "output_type": "execute_result"
    }
   ],
   "source": [
    "d2[True]"
   ]
  },
  {
   "cell_type": "code",
   "execution_count": 17,
   "id": "a11c5a10-45d6-457e-ae94-9b1bfadc03ba",
   "metadata": {},
   "outputs": [],
   "source": [
    "d3={'name' : 'rajat' , 'name' : 'khandelwal'} "
   ]
  },
  {
   "cell_type": "code",
   "execution_count": 19,
   "id": "cdb42646-6257-40e6-88d1-ac9ccbd9710d",
   "metadata": {},
   "outputs": [
    {
     "data": {
      "text/plain": [
       "{'name': 'khandelwal'}"
      ]
     },
     "execution_count": 19,
     "metadata": {},
     "output_type": "execute_result"
    }
   ],
   "source": [
    "d3 # key is unique so it overwrites it value which it find in last in dictionat=ry"
   ]
  },
  {
   "cell_type": "code",
   "execution_count": 20,
   "id": "7de5febb-a7f3-49bb-9ab3-5dc69d7dae36",
   "metadata": {},
   "outputs": [],
   "source": [
    "d4={\"company\" : \"pwskills\" , \"course\" : [\"webdev\" ,2,\"data science\"]}"
   ]
  },
  {
   "cell_type": "code",
   "execution_count": 21,
   "id": "18c2db64-d116-4be0-8f2f-c9f52c81f787",
   "metadata": {},
   "outputs": [
    {
     "data": {
      "text/plain": [
       "{'company': 'pwskills', 'course': ['webdev', 2, 'data science']}"
      ]
     },
     "execution_count": 21,
     "metadata": {},
     "output_type": "execute_result"
    }
   ],
   "source": [
    "d4 # list can also stored in dictionary"
   ]
  },
  {
   "cell_type": "code",
   "execution_count": 23,
   "id": "4879a6a0-734f-444c-a8cd-ee109b2ded8d",
   "metadata": {},
   "outputs": [
    {
     "data": {
      "text/plain": [
       "'data science'"
      ]
     },
     "execution_count": 23,
     "metadata": {},
     "output_type": "execute_result"
    }
   ],
   "source": [
    "d4[\"course\"][2]"
   ]
  },
  {
   "cell_type": "code",
   "execution_count": 27,
   "id": "f4782c2a-6a50-45fc-851c-f3510028c993",
   "metadata": {},
   "outputs": [],
   "source": [
    "d5={\"number\" : [1,2,3] , \"assignment\" : (1,2,3) ,\"class\" :{\"time1\" :1,\"time2\" :2,\"time3\":3} , \"data\" :6}"
   ]
  },
  {
   "cell_type": "code",
   "execution_count": 25,
   "id": "c47bfe51-17ef-4c1b-89f1-a85b988b9220",
   "metadata": {},
   "outputs": [
    {
     "data": {
      "text/plain": [
       "{'number': [1, 2, 3], 'assignment': (1, 2, 3), 'class': {1, 2, 3}, 'data': 6}"
      ]
     },
     "execution_count": 25,
     "metadata": {},
     "output_type": "execute_result"
    }
   ],
   "source": [
    "d5 # list , tuples and set can also be a values"
   ]
  },
  {
   "cell_type": "code",
   "execution_count": 28,
   "id": "fc8a17c2-7464-4c7c-97cb-57b08ef34f50",
   "metadata": {},
   "outputs": [
    {
     "data": {
      "text/plain": [
       "1"
      ]
     },
     "execution_count": 28,
     "metadata": {},
     "output_type": "execute_result"
    }
   ],
   "source": [
    "d5[\"class\"][\"time1\"]"
   ]
  },
  {
   "cell_type": "code",
   "execution_count": 29,
   "id": "6f0fd057-d8b9-4f17-8073-c5caff35d1f6",
   "metadata": {},
   "outputs": [],
   "source": [
    "# add new key value pair in dictionary"
   ]
  },
  {
   "cell_type": "code",
   "execution_count": 43,
   "id": "4c20c164-8d06-46f6-a058-1ffb4448977e",
   "metadata": {},
   "outputs": [],
   "source": [
    "d5[\"mentor\"]=\"sudh\""
   ]
  },
  {
   "cell_type": "code",
   "execution_count": 44,
   "id": "7e1ac0a2-de97-463b-8b2e-e58e74f0eecc",
   "metadata": {},
   "outputs": [
    {
     "data": {
      "text/plain": [
       "{'assignment': (1, 2, 3),\n",
       " 'class': {'time1': 1, 'time2': 2, 'time3': 3},\n",
       " 'data': 6,\n",
       " 'mentor': 'sudh'}"
      ]
     },
     "execution_count": 44,
     "metadata": {},
     "output_type": "execute_result"
    }
   ],
   "source": [
    "d5"
   ]
  },
  {
   "cell_type": "code",
   "execution_count": 32,
   "id": "33c29dbb-85da-444a-ae17-ecc55bcd0a97",
   "metadata": {},
   "outputs": [],
   "source": [
    "d5[\"number\"]=[4,5,6]"
   ]
  },
  {
   "cell_type": "code",
   "execution_count": 33,
   "id": "9c83c9c9-ee38-4f1b-b539-f86911fc75dd",
   "metadata": {},
   "outputs": [
    {
     "data": {
      "text/plain": [
       "{'number': [4, 5, 6],\n",
       " 'assignment': (1, 2, 3),\n",
       " 'class': {'time1': 1, 'time2': 2, 'time3': 3},\n",
       " 'data': 6,\n",
       " 'mentor': ['sudh']}"
      ]
     },
     "execution_count": 33,
     "metadata": {},
     "output_type": "execute_result"
    }
   ],
   "source": [
    "d5"
   ]
  },
  {
   "cell_type": "code",
   "execution_count": 34,
   "id": "790c65e5-135c-4158-9b3c-8f3e8d37e33a",
   "metadata": {},
   "outputs": [],
   "source": [
    "# deleting a key value pair "
   ]
  },
  {
   "cell_type": "code",
   "execution_count": 35,
   "id": "bb3b6e3c-c505-4bd8-b2c7-b42a5a8481e8",
   "metadata": {},
   "outputs": [],
   "source": [
    "del d5[\"number\"]"
   ]
  },
  {
   "cell_type": "code",
   "execution_count": 36,
   "id": "9ef2a04e-02f1-4ba6-8a70-df669fb66f80",
   "metadata": {},
   "outputs": [
    {
     "data": {
      "text/plain": [
       "{'assignment': (1, 2, 3),\n",
       " 'class': {'time1': 1, 'time2': 2, 'time3': 3},\n",
       " 'data': 6,\n",
       " 'mentor': ['sudh']}"
      ]
     },
     "execution_count": 36,
     "metadata": {},
     "output_type": "execute_result"
    }
   ],
   "source": [
    "d5"
   ]
  },
  {
   "cell_type": "code",
   "execution_count": 37,
   "id": "32dbf27c-0e18-4415-8cac-c7fa2f2e4dec",
   "metadata": {},
   "outputs": [
    {
     "data": {
      "text/plain": [
       "dict_keys(['assignment', 'class', 'data', 'mentor'])"
      ]
     },
     "execution_count": 37,
     "metadata": {},
     "output_type": "execute_result"
    }
   ],
   "source": [
    "d5.keys()"
   ]
  },
  {
   "cell_type": "code",
   "execution_count": 46,
   "id": "2ede2c3d-a232-4bb1-b4fb-21bad373fc7f",
   "metadata": {},
   "outputs": [
    {
     "data": {
      "text/plain": [
       "['assignment', 'class', 'data', 'mentor']"
      ]
     },
     "execution_count": 46,
     "metadata": {},
     "output_type": "execute_result"
    }
   ],
   "source": [
    "list(d5.keys())"
   ]
  },
  {
   "cell_type": "code",
   "execution_count": 45,
   "id": "7b9a3c7c-4b01-443f-8f23-5f378adc1b2c",
   "metadata": {},
   "outputs": [
    {
     "data": {
      "text/plain": [
       "[(1, 2, 3), {'time1': 1, 'time2': 2, 'time3': 3}, 6, 'sudh']"
      ]
     },
     "execution_count": 45,
     "metadata": {},
     "output_type": "execute_result"
    }
   ],
   "source": [
    "list(d5.values())"
   ]
  },
  {
   "cell_type": "code",
   "execution_count": 47,
   "id": "3aae30a2-0102-495b-9918-1265bb8ef94b",
   "metadata": {},
   "outputs": [
    {
     "data": {
      "text/plain": [
       "[('assignment', (1, 2, 3)),\n",
       " ('class', {'time1': 1, 'time2': 2, 'time3': 3}),\n",
       " ('data', 6),\n",
       " ('mentor', 'sudh')]"
      ]
     },
     "execution_count": 47,
     "metadata": {},
     "output_type": "execute_result"
    }
   ],
   "source": [
    "list(d5.items()) # tuples holding key-value pair"
   ]
  },
  {
   "cell_type": "code",
   "execution_count": 48,
   "id": "310e971e-2203-456c-af76-72c9e00c9880",
   "metadata": {},
   "outputs": [
    {
     "data": {
      "text/plain": [
       "6"
      ]
     },
     "execution_count": 48,
     "metadata": {},
     "output_type": "execute_result"
    }
   ],
   "source": [
    "d5.pop(\"data\")"
   ]
  },
  {
   "cell_type": "code",
   "execution_count": 6,
   "id": "9f2bf13d-3449-4c58-aa87-e8592454afe1",
   "metadata": {},
   "outputs": [
    {
     "name": "stdin",
     "output_type": "stream",
     "text": [
      "Enter your marks 56\n"
     ]
    },
    {
     "name": "stdout",
     "output_type": "stream",
     "text": [
      "you will be a part of A2 batch\n"
     ]
    }
   ],
   "source": [
    "marks=int(input(\"Enter your marks\")) # input function takes input in string   \n",
    "if marks >=80 :\n",
    "    print(\"you will be a part of a A0 batch\")\n",
    "elif marks>=60 and marks<80:\n",
    "    print(\" you will be a part of A1 batch\")\n",
    "elif marks>= 40 and marks<60:\n",
    "    print(\"you will be a part of A2 batch\")\n",
    "else :\n",
    "    print(\"you will be a part of A3 batch \")\n",
    "    \n",
    "    "
   ]
  },
  {
   "cell_type": "code",
   "execution_count": 8,
   "id": "2379ada6-6587-4f6c-ac62-b059f85dc998",
   "metadata": {},
   "outputs": [
    {
     "name": "stdin",
     "output_type": "stream",
     "text": [
      "enter the price 7000\n"
     ]
    },
    {
     "name": "stdout",
     "output_type": "stream",
     "text": [
      "i will not purchase it\n",
      "it is too costly\n"
     ]
    }
   ],
   "source": [
    "price=int(input(\"enter the price\"))\n",
    "if price>1000:\n",
    "    print(\"i will not purchase it\")\n",
    "    if(price>5000):\n",
    "        print(\"it is too costly\")"
   ]
  },
  {
   "cell_type": "code",
   "execution_count": 1,
   "id": "aa476931-b122-4ecd-a1c4-50051e0c15bb",
   "metadata": {},
   "outputs": [],
   "source": [
    "l=[1,2,4,5,7,8]"
   ]
  },
  {
   "cell_type": "code",
   "execution_count": 2,
   "id": "67101199-48c8-413e-a8e4-d021bcbb8887",
   "metadata": {},
   "outputs": [
    {
     "name": "stdout",
     "output_type": "stream",
     "text": [
      "1\n",
      "2\n",
      "4\n",
      "5\n",
      "7\n",
      "8\n"
     ]
    }
   ],
   "source": [
    "for i in l :\n",
    "    print(i)"
   ]
  },
  {
   "cell_type": "code",
   "execution_count": 3,
   "id": "fb56f64a-a292-459b-8e9f-5628c4da148b",
   "metadata": {},
   "outputs": [
    {
     "name": "stdout",
     "output_type": "stream",
     "text": [
      "2\n",
      "3\n",
      "5\n",
      "6\n",
      "8\n",
      "9\n"
     ]
    }
   ],
   "source": [
    "for i in l:\n",
    "    i=i+1\n",
    "    print(i)"
   ]
  },
  {
   "cell_type": "code",
   "execution_count": 12,
   "id": "6dca115a-2106-4fd3-b86a-abc19a3e22bd",
   "metadata": {},
   "outputs": [
    {
     "name": "stdout",
     "output_type": "stream",
     "text": [
      "[1, 2, 4, 5, 7, 8]\n"
     ]
    }
   ],
   "source": [
    "l1=[\"rajat\",\"cheena\",\"tripti\",\"harsh\"]\n",
    "l2=[]\n",
    "for i in l1 :\n",
    "    l2.append(i.upper())"
   ]
  },
  {
   "cell_type": "code",
   "execution_count": 13,
   "id": "4d1463d6-2947-48b9-abfa-78011ac54c56",
   "metadata": {},
   "outputs": [
    {
     "data": {
      "text/plain": [
       "['RAJAT', 'CHEENA', 'TRIPTI', 'HARSH']"
      ]
     },
     "execution_count": 13,
     "metadata": {},
     "output_type": "execute_result"
    }
   ],
   "source": [
    "l2"
   ]
  },
  {
   "cell_type": "code",
   "execution_count": 14,
   "id": "38a422ed-d5d6-403d-9879-4201bca41fa0",
   "metadata": {},
   "outputs": [],
   "source": [
    "l=[1,2,3,3.14,\"abc\",45,\"def\"]\n",
    "# seprate numeric and non numeric values in 2 diffrent lists"
   ]
  },
  {
   "cell_type": "code",
   "execution_count": 17,
   "id": "fdb0636f-9aac-48f2-8d6d-d9ef9ed3f429",
   "metadata": {},
   "outputs": [],
   "source": [
    "l1=[]\n",
    "l2=[]\n",
    "for i in l:\n",
    "    if type(i)==str:\n",
    "        l1.append(i)\n",
    "    else:\n",
    "        l2.append(i)"
   ]
  },
  {
   "cell_type": "code",
   "execution_count": 18,
   "id": "a7c7db16-bd83-4b29-9732-578d4044339c",
   "metadata": {},
   "outputs": [
    {
     "name": "stdout",
     "output_type": "stream",
     "text": [
      "['abc', 'def']\n",
      "[1, 2, 3, 3.14, 45]\n"
     ]
    }
   ],
   "source": [
    "print(l1)\n",
    "print(l2)"
   ]
  },
  {
   "cell_type": "code",
   "execution_count": 21,
   "id": "86a40624-0b1a-4ca6-bb4e-2fb5bb906ccb",
   "metadata": {},
   "outputs": [],
   "source": [
    "l1.insert(3,\"rajat\")"
   ]
  },
  {
   "cell_type": "code",
   "execution_count": 22,
   "id": "eac74bbf-3d19-445f-8f73-6339c4fae184",
   "metadata": {},
   "outputs": [
    {
     "data": {
      "text/plain": [
       "['abc', 'def', 'rajat']"
      ]
     },
     "execution_count": 22,
     "metadata": {},
     "output_type": "execute_result"
    }
   ],
   "source": [
    "l1"
   ]
  },
  {
   "cell_type": "code",
   "execution_count": null,
   "id": "15566b61-f92e-4d7f-88ea-c7b7397d7379",
   "metadata": {},
   "outputs": [],
   "source": []
  }
 ],
 "metadata": {
  "kernelspec": {
   "display_name": "Python 3 (ipykernel)",
   "language": "python",
   "name": "python3"
  },
  "language_info": {
   "codemirror_mode": {
    "name": "ipython",
    "version": 3
   },
   "file_extension": ".py",
   "mimetype": "text/x-python",
   "name": "python",
   "nbconvert_exporter": "python",
   "pygments_lexer": "ipython3",
   "version": "3.10.8"
  }
 },
 "nbformat": 4,
 "nbformat_minor": 5
}
